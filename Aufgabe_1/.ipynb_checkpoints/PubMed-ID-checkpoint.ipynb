{
 "cells": [
  {
   "cell_type": "code",
   "execution_count": 10,
   "metadata": {},
   "outputs": [],
   "source": [
    "import pandas as pd\n",
    "import seaborn as sns\n",
    "import matplotlib.pyplot as plt\n",
    "import numpy as np\n",
    "import urllib.request\n",
    "import json\n",
    "from pandas import Series, DataFrame"
   ]
  },
  {
   "cell_type": "code",
   "execution_count": 11,
   "metadata": {},
   "outputs": [],
   "source": [
    "url1 = \"https://eutils.ncbi.nlm.nih.gov/entrez/eutils/esummary.fcgi?db=pubmed&retmode=json&id=31452104\"\n",
    "item1 = pd.read_csv(url1)\n",
    "url2 = \"https://eutils.ncbi.nlm.nih.gov/entrez/eutils/esummary.fcgi?db=pubmed&retmode=json&id=31437182\"\n",
    "item2 = pd.read_csv(url2)\n",
    "url3 = \"https://eutils.ncbi.nlm.nih.gov/entrez/eutils/esummary.fcgi?db=pubmed&retmode=json&id=31455877\"\n",
    "item3 = pd.read_csv(url3)\n",
    "url4 = \"https://eutils.ncbi.nlm.nih.gov/entrez/eutils/esummary.fcgi?db=pubmed&retmode=json&id=31535994\"\n",
    "item4 = pd.read_csv(url4)"
   ]
  },
  {
   "cell_type": "code",
   "execution_count": 12,
   "metadata": {},
   "outputs": [
    {
     "data": {
      "text/html": [
       "<div>\n",
       "<style scoped>\n",
       "    .dataframe tbody tr th:only-of-type {\n",
       "        vertical-align: middle;\n",
       "    }\n",
       "\n",
       "    .dataframe tbody tr th {\n",
       "        vertical-align: top;\n",
       "    }\n",
       "\n",
       "    .dataframe thead th {\n",
       "        text-align: right;\n",
       "    }\n",
       "</style>\n",
       "<table border=\"1\" class=\"dataframe\">\n",
       "  <thead>\n",
       "    <tr style=\"text-align: right;\">\n",
       "      <th></th>\n",
       "      <th>{\"header\":{\"type\":\"esummary\"</th>\n",
       "      <th>version:\"0.3\"}</th>\n",
       "      <th>result:{\"uids\":[\"31452104\"]</th>\n",
       "      <th>31452104:{\"uid\":\"31452104\"</th>\n",
       "      <th>pubdate:\"2019\"</th>\n",
       "      <th>epubdate:\"\"</th>\n",
       "      <th>source:\"Methods Mol Biol\"</th>\n",
       "      <th>authors:[{\"name\":\"Bitencourt-Ferreira G\"</th>\n",
       "      <th>authtype:\"Author\"</th>\n",
       "      <th>clusterid:\"\"}</th>\n",
       "      <th>...</th>\n",
       "      <th>reportnumber:\"\"</th>\n",
       "      <th>availablefromurl:\"\"</th>\n",
       "      <th>locationlabel:\"\"</th>\n",
       "      <th>doccontriblist:[]</th>\n",
       "      <th>docdate:\"\"</th>\n",
       "      <th>bookname:\"\"</th>\n",
       "      <th>chapter:\"\"</th>\n",
       "      <th>sortpubdate:\"2019/01/01 00:00\"</th>\n",
       "      <th>sortfirstauthor:\"Bitencourt-Ferreira G\"</th>\n",
       "      <th>vernaculartitle:\"\"}}}</th>\n",
       "    </tr>\n",
       "  </thead>\n",
       "  <tbody>\n",
       "  </tbody>\n",
       "</table>\n",
       "<p>0 rows × 68 columns</p>\n",
       "</div>"
      ],
      "text/plain": [
       "Empty DataFrame\n",
       "Columns: [{\"header\":{\"type\":\"esummary\", version:\"0.3\"}, result:{\"uids\":[\"31452104\"], 31452104:{\"uid\":\"31452104\", pubdate:\"2019\", epubdate:\"\", source:\"Methods Mol Biol\", authors:[{\"name\":\"Bitencourt-Ferreira G\", authtype:\"Author\", clusterid:\"\"}, {\"name\":\"de Azevedo WF Jr\", authtype:\"Author\".1, clusterid:\"\"}], lastauthor:\"de Azevedo WF Jr\", title:\"Molegro Virtual Docker for Docking.\", sorttitle:\"molegro virtual docker for docking\", volume:\"2053\", issue:\"\", pages:\"149-167\", lang:[\"eng\"], nlmuniqueid:\"9214969\", issn:\"1064-3745\", essn:\"1940-6029\", pubtype:[\"Journal Article\"], recordstatus:\"PubMed - indexed for MEDLINE\", pubstatus:\"4\", articleids:[{\"idtype\":\"pubmed\", idtypen:1, value:\"31452104\"}, {\"idtype\":\"doi\", idtypen:3, value:\"10.1007/978-1-4939-9752-7_10\"}, {\"idtype\":\"rid\", idtypen:8, value:\"31452104\"}.1, {\"idtype\":\"eid\", idtypen:8.1, value:\"31452104\"}], history:[{\"pubstatus\":\"entrez\", date:\"2019/08/28 06:00\"}, {\"pubstatus\":\"pubmed\", date:\"2019/08/28 06:00\"}.1, {\"pubstatus\":\"medline\", date:\"2020/06/20 06:00\"}], references:[], attributes:[\"Has Abstract\"], pmcrefcount:4, fulljournalname:\"Methods in molecular biology (Clifton,  N.J.)\", elocationid:\"doi: 10.1007/978-1-4939-9752-7_10\", doctype:\"citation\", srccontriblist:[], booktitle:\"\", medium:\"\", edition:\"\", publisherlocation:\"\", publishername:\"\", srcdate:\"\", reportnumber:\"\", availablefromurl:\"\", locationlabel:\"\", doccontriblist:[], docdate:\"\", bookname:\"\", chapter:\"\", sortpubdate:\"2019/01/01 00:00\", sortfirstauthor:\"Bitencourt-Ferreira G\", vernaculartitle:\"\"}}}]\n",
       "Index: []\n",
       "\n",
       "[0 rows x 68 columns]"
      ]
     },
     "execution_count": 12,
     "metadata": {},
     "output_type": "execute_result"
    }
   ],
   "source": [
    "item1"
   ]
  },
  {
   "cell_type": "code",
   "execution_count": 13,
   "metadata": {},
   "outputs": [
    {
     "name": "stdout",
     "output_type": "stream",
     "text": [
      "Empty DataFrame\n",
      "Columns: [{\"header\":{\"type\":\"esummary\", version:\"0.3\"}, result:{\"uids\":[\"31452104\"], 31452104:{\"uid\":\"31452104\", pubdate:\"2019\", epubdate:\"\", source:\"Methods Mol Biol\", authors:[{\"name\":\"Bitencourt-Ferreira G\", authtype:\"Author\", clusterid:\"\"}, {\"name\":\"de Azevedo WF Jr\", authtype:\"Author\".1, clusterid:\"\"}], lastauthor:\"de Azevedo WF Jr\", title:\"Molegro Virtual Docker for Docking.\", sorttitle:\"molegro virtual docker for docking\", volume:\"2053\", issue:\"\", pages:\"149-167\", lang:[\"eng\"], nlmuniqueid:\"9214969\", issn:\"1064-3745\", essn:\"1940-6029\", pubtype:[\"Journal Article\"], recordstatus:\"PubMed - indexed for MEDLINE\", pubstatus:\"4\", articleids:[{\"idtype\":\"pubmed\", idtypen:1, value:\"31452104\"}, {\"idtype\":\"doi\", idtypen:3, value:\"10.1007/978-1-4939-9752-7_10\"}, {\"idtype\":\"rid\", idtypen:8, value:\"31452104\"}.1, {\"idtype\":\"eid\", idtypen:8.1, value:\"31452104\"}], history:[{\"pubstatus\":\"entrez\", date:\"2019/08/28 06:00\"}, {\"pubstatus\":\"pubmed\", date:\"2019/08/28 06:00\"}.1, {\"pubstatus\":\"medline\", date:\"2020/06/20 06:00\"}], references:[], attributes:[\"Has Abstract\"], pmcrefcount:4, fulljournalname:\"Methods in molecular biology (Clifton,  N.J.)\", elocationid:\"doi: 10.1007/978-1-4939-9752-7_10\", doctype:\"citation\", srccontriblist:[], booktitle:\"\", medium:\"\", edition:\"\", publisherlocation:\"\", publishername:\"\", srcdate:\"\", reportnumber:\"\", availablefromurl:\"\", locationlabel:\"\", doccontriblist:[], docdate:\"\", bookname:\"\", chapter:\"\", sortpubdate:\"2019/01/01 00:00\", sortfirstauthor:\"Bitencourt-Ferreira G\", vernaculartitle:\"\"}}}]\n",
      "Index: []\n",
      "\n",
      "[0 rows x 68 columns]\n"
     ]
    }
   ],
   "source": [
    "print(item1)"
   ]
  },
  {
   "cell_type": "code",
   "execution_count": 26,
   "metadata": {},
   "outputs": [
    {
     "name": "stdout",
     "output_type": "stream",
     "text": [
      "Empty DataFrame\n",
      "Columns: [{\"header\":{\"type\":\"esummary\", version:\"0.3\"}, result:{\"uids\":[\"31437182\"], 31437182:{\"uid\":\"31437182\", pubdate:\"2019\", epubdate:\"2019 Aug 22\", source:\"PLoS One\", authors:[{\"name\":\"Balaban M\", authtype:\"Author\", clusterid:\"\"}, {\"name\":\"Moshiri N\", authtype:\"Author\".1, clusterid:\"\"}.1, {\"name\":\"Mai U\", authtype:\"Author\".2, clusterid:\"\"}.2, {\"name\":\"Jia X\", authtype:\"Author\".3, clusterid:\"\"}.3, {\"name\":\"Mirarab S\", authtype:\"Author\".4, clusterid:\"\"}], lastauthor:\"Mirarab S\", title:\"TreeCluster: Clustering biological sequences using phylogenetic trees.\", sorttitle:\"treecluster clustering biological sequences using phylogenetic trees\", volume:\"14\", issue:\"8\", pages:\"e0221068\", lang:[\"eng\"], nlmuniqueid:\"101285081\", issn:\"\", essn:\"1932-6203\", pubtype:[\"Journal Article\"], recordstatus:\"PubMed - indexed for MEDLINE\", pubstatus:\"258\", articleids:[{\"idtype\":\"pubmed\", idtypen:1, value:\"31437182\"}, {\"idtype\":\"doi\", idtypen:3, value:\"10.1371/journal.pone.0221068\"}, {\"idtype\":\"pii\", idtypen:4, value:\"PONE-D-19-14871\"}, {\"idtype\":\"pmc\", idtypen:8, value:\"PMC6705769\"}, {\"idtype\":\"rid\", idtypen:8.1, value:\"31437182\"}.1, {\"idtype\":\"eid\", idtypen:8.2, value:\"31437182\"}.2, {\"idtype\":\"pmcid\", idtypen:5, value:\"pmc-id: PMC6705769;\"}], history:[{\"pubstatus\":\"received\", date:\"2019/05/26 00:00\"}, {\"pubstatus\":\"accepted\", date:\"2019/07/26 00:00\"}, {\"pubstatus\":\"entrez\", date:\"2019/08/23 06:00\"}, {\"pubstatus\":\"pubmed\", date:\"2019/08/23 06:00\"}.1, {\"pubstatus\":\"medline\", date:\"2020/03/04 06:00\"}], references:[], attributes:[\"Has Abstract\"], pmcrefcount:8, fulljournalname:\"PloS one\", elocationid:\"doi: 10.1371/journal.pone.0221068\", doctype:\"citation\", srccontriblist:[], booktitle:\"\", medium:\"\", edition:\"\", publisherlocation:\"\", publishername:\"\", srcdate:\"\", reportnumber:\"\", availablefromurl:\"\", locationlabel:\"\", doccontriblist:[], docdate:\"\", bookname:\"\", chapter:\"\", sortpubdate:\"2019/08/22 00:00\", sortfirstauthor:\"Balaban M\", vernaculartitle:\"\"}}}]\n",
      "Index: []\n",
      "\n",
      "[0 rows x 89 columns]\n"
     ]
    }
   ],
   "source": [
    "print(item2)"
   ]
  },
  {
   "cell_type": "code",
   "execution_count": 27,
   "metadata": {},
   "outputs": [
    {
     "name": "stdout",
     "output_type": "stream",
     "text": [
      "Empty DataFrame\n",
      "Columns: [{\"header\":{\"type\":\"esummary\", version:\"0.3\"}, result:{\"uids\":[\"31455877\"], 31455877:{\"uid\":\"31455877\", pubdate:\"2019 Aug 27\", epubdate:\"2019 Aug 27\", source:\"Sci Rep\", authors:[{\"name\":\"Booeshaghi AS\", authtype:\"Author\", clusterid:\"\"}, {\"name\":\"Beltrame EDV\", authtype:\"Author\".1, clusterid:\"\"}.1, {\"name\":\"Bannon D\", authtype:\"Author\".2, clusterid:\"\"}.2, {\"name\":\"Gehring J\", authtype:\"Author\".3, clusterid:\"\"}.3, {\"name\":\"Pachter L\", authtype:\"Author\".4, clusterid:\"\"}], lastauthor:\"Pachter L\", title:\"Principles of open source bioinstrumentation applied to the poseidon syringe pump system.\", sorttitle:\"principles of open source bioinstrumentation applied to the poseidon syringe pump system\", volume:\"9\", issue:\"1\", pages:\"12385\", lang:[\"eng\"], nlmuniqueid:\"101563288\", issn:\"\", essn:\"2045-2322\", pubtype:[\"Journal Article\"], recordstatus:\"PubMed\", pubstatus:\"3\", articleids:[{\"idtype\":\"pubmed\", idtypen:1, value:\"31455877\"}, {\"idtype\":\"doi\", idtypen:3, value:\"10.1038/s41598-019-48815-9\"}, {\"idtype\":\"pii\", idtypen:4, value:\"10.1038/s41598-019-48815-9\"}.1, {\"idtype\":\"pmc\", idtypen:8, value:\"PMC6711986\"}, {\"idtype\":\"rid\", idtypen:8.1, value:\"31455877\"}.1, {\"idtype\":\"eid\", idtypen:8.2, value:\"31455877\"}.2, {\"idtype\":\"pmcid\", idtypen:5, value:\"pmc-id: PMC6711986;\"}], history:[{\"pubstatus\":\"received\", date:\"2019/02/07 00:00\"}, {\"pubstatus\":\"accepted\", date:\"2019/08/08 00:00\"}, {\"pubstatus\":\"entrez\", date:\"2019/08/29 06:00\"}, {\"pubstatus\":\"pubmed\", date:\"2019/08/29 06:00\"}.1, {\"pubstatus\":\"medline\", date:\"2019/08/29 06:01\"}], references:[], attributes:[\"Has Abstract\"], pmcrefcount:4, fulljournalname:\"Scientific reports\", elocationid:\"doi: 10.1038/s41598-019-48815-9\", doctype:\"citation\", srccontriblist:[], booktitle:\"\", medium:\"\", edition:\"\", publisherlocation:\"\", publishername:\"\", srcdate:\"\", reportnumber:\"\", availablefromurl:\"\", locationlabel:\"\", doccontriblist:[], docdate:\"\", bookname:\"\", chapter:\"\", sortpubdate:\"2019/08/27 00:00\", sortfirstauthor:\"Booeshaghi AS\", vernaculartitle:\"\"}}}]\n",
      "Index: []\n",
      "\n",
      "[0 rows x 89 columns]\n"
     ]
    }
   ],
   "source": [
    "print(item3)"
   ]
  },
  {
   "cell_type": "code",
   "execution_count": 28,
   "metadata": {},
   "outputs": [
    {
     "name": "stdout",
     "output_type": "stream",
     "text": [
      "Empty DataFrame\n",
      "Columns: [{\"header\":{\"type\":\"esummary\", version:\"0.3\"}, result:{\"uids\":[\"31535994\"], 31535994:{\"uid\":\"31535994\", pubdate:\"2019 Sep 16\", epubdate:\"2019 Sep 16\", source:\"IEEE Trans Image Process\", authors:[{\"name\":\"Liu C\", authtype:\"Author\", clusterid:\"\"}, {\"name\":\"Ding W\", authtype:\"Author\".1, clusterid:\"\"}.1, {\"name\":\"Yang J\", authtype:\"Author\".2, clusterid:\"\"}.2, {\"name\":\"Murino V\", authtype:\"Author\".3, clusterid:\"\"}.3, {\"name\":\"Zhang B\", authtype:\"Author\".4, clusterid:\"\"}.4, {\"name\":\"Han J\", authtype:\"Author\".5, clusterid:\"\"}.5, {\"name\":\"Guo G\", authtype:\"Author\".6, clusterid:\"\"}], lastauthor:\"Guo G\", title:\"Aggregation Signature for Small Object Tracking.\", sorttitle:\"aggregation signature for small object tracking\", volume:\"\", issue:\"\", pages:\"\", lang:[\"eng\"], nlmuniqueid:\"9886191\", issn:\"1057-7149\", essn:\"1941-0042\", pubtype:[\"Journal Article\"], recordstatus:\"PubMed - as supplied by publisher\", pubstatus:\"10\", articleids:[{\"idtype\":\"pubmed\", idtypen:1, value:\"31535994\"}, {\"idtype\":\"doi\", idtypen:3, value:\"10.1109/TIP.2019.2940477\"}, {\"idtype\":\"rid\", idtypen:8, value:\"31535994\"}.1, {\"idtype\":\"eid\", idtypen:8.1, value:\"31535994\"}], history:[{\"pubstatus\":\"entrez\", date:\"2019/09/20 06:00\"}, {\"pubstatus\":\"pubmed\", date:\"2019/09/20 06:00\"}.1, {\"pubstatus\":\"medline\", date:\"2019/09/20 06:00\"}], references:[], attributes:[\"Has Abstract\"], pmcrefcount:\"\", fulljournalname:\"IEEE transactions on image processing : a publication of the IEEE Signal Processing Society\", elocationid:\"doi: 10.1109/TIP.2019.2940477\", doctype:\"citation\", srccontriblist:[], booktitle:\"\", medium:\"\", edition:\"\", publisherlocation:\"\", publishername:\"\", srcdate:\"\", reportnumber:\"\", availablefromurl:\"\", locationlabel:\"\", doccontriblist:[], docdate:\"\", bookname:\"\", chapter:\"\", sortpubdate:\"2019/09/16 00:00\", sortfirstauthor:\"Liu C\", vernaculartitle:\"\"}}}]\n",
      "Index: []\n",
      "\n",
      "[0 rows x 82 columns]\n"
     ]
    }
   ],
   "source": [
    "print(item4)"
   ]
  },
  {
   "cell_type": "code",
   "execution_count": 29,
   "metadata": {},
   "outputs": [
    {
     "data": {
      "text/html": [
       "<div>\n",
       "<style scoped>\n",
       "    .dataframe tbody tr th:only-of-type {\n",
       "        vertical-align: middle;\n",
       "    }\n",
       "\n",
       "    .dataframe tbody tr th {\n",
       "        vertical-align: top;\n",
       "    }\n",
       "\n",
       "    .dataframe thead th {\n",
       "        text-align: right;\n",
       "    }\n",
       "</style>\n",
       "<table border=\"1\" class=\"dataframe\">\n",
       "  <thead>\n",
       "    <tr style=\"text-align: right;\">\n",
       "      <th></th>\n",
       "      <th>{\"header\":{\"type\":\"esummary\"</th>\n",
       "      <th>version:\"0.3\"}</th>\n",
       "      <th>result:{\"uids\":[\"31437182\"]</th>\n",
       "      <th>31437182:{\"uid\":\"31437182\"</th>\n",
       "      <th>pubdate:\"2019\"</th>\n",
       "      <th>epubdate:\"2019 Aug 22\"</th>\n",
       "      <th>source:\"PLoS One\"</th>\n",
       "      <th>authors:[{\"name\":\"Balaban M\"</th>\n",
       "      <th>authtype:\"Author\"</th>\n",
       "      <th>clusterid:\"\"}</th>\n",
       "      <th>...</th>\n",
       "      <th>reportnumber:\"\"</th>\n",
       "      <th>availablefromurl:\"\"</th>\n",
       "      <th>locationlabel:\"\"</th>\n",
       "      <th>doccontriblist:[]</th>\n",
       "      <th>docdate:\"\"</th>\n",
       "      <th>bookname:\"\"</th>\n",
       "      <th>chapter:\"\"</th>\n",
       "      <th>sortpubdate:\"2019/08/22 00:00\"</th>\n",
       "      <th>sortfirstauthor:\"Balaban M\"</th>\n",
       "      <th>vernaculartitle:\"\"}}}</th>\n",
       "    </tr>\n",
       "  </thead>\n",
       "  <tbody>\n",
       "  </tbody>\n",
       "</table>\n",
       "<p>0 rows × 89 columns</p>\n",
       "</div>"
      ],
      "text/plain": [
       "Empty DataFrame\n",
       "Columns: [{\"header\":{\"type\":\"esummary\", version:\"0.3\"}, result:{\"uids\":[\"31437182\"], 31437182:{\"uid\":\"31437182\", pubdate:\"2019\", epubdate:\"2019 Aug 22\", source:\"PLoS One\", authors:[{\"name\":\"Balaban M\", authtype:\"Author\", clusterid:\"\"}, {\"name\":\"Moshiri N\", authtype:\"Author\".1, clusterid:\"\"}.1, {\"name\":\"Mai U\", authtype:\"Author\".2, clusterid:\"\"}.2, {\"name\":\"Jia X\", authtype:\"Author\".3, clusterid:\"\"}.3, {\"name\":\"Mirarab S\", authtype:\"Author\".4, clusterid:\"\"}], lastauthor:\"Mirarab S\", title:\"TreeCluster: Clustering biological sequences using phylogenetic trees.\", sorttitle:\"treecluster clustering biological sequences using phylogenetic trees\", volume:\"14\", issue:\"8\", pages:\"e0221068\", lang:[\"eng\"], nlmuniqueid:\"101285081\", issn:\"\", essn:\"1932-6203\", pubtype:[\"Journal Article\"], recordstatus:\"PubMed - indexed for MEDLINE\", pubstatus:\"258\", articleids:[{\"idtype\":\"pubmed\", idtypen:1, value:\"31437182\"}, {\"idtype\":\"doi\", idtypen:3, value:\"10.1371/journal.pone.0221068\"}, {\"idtype\":\"pii\", idtypen:4, value:\"PONE-D-19-14871\"}, {\"idtype\":\"pmc\", idtypen:8, value:\"PMC6705769\"}, {\"idtype\":\"rid\", idtypen:8.1, value:\"31437182\"}.1, {\"idtype\":\"eid\", idtypen:8.2, value:\"31437182\"}.2, {\"idtype\":\"pmcid\", idtypen:5, value:\"pmc-id: PMC6705769;\"}], history:[{\"pubstatus\":\"received\", date:\"2019/05/26 00:00\"}, {\"pubstatus\":\"accepted\", date:\"2019/07/26 00:00\"}, {\"pubstatus\":\"entrez\", date:\"2019/08/23 06:00\"}, {\"pubstatus\":\"pubmed\", date:\"2019/08/23 06:00\"}.1, {\"pubstatus\":\"medline\", date:\"2020/03/04 06:00\"}], references:[], attributes:[\"Has Abstract\"], pmcrefcount:8, fulljournalname:\"PloS one\", elocationid:\"doi: 10.1371/journal.pone.0221068\", doctype:\"citation\", srccontriblist:[], booktitle:\"\", medium:\"\", edition:\"\", publisherlocation:\"\", publishername:\"\", srcdate:\"\", reportnumber:\"\", availablefromurl:\"\", locationlabel:\"\", doccontriblist:[], docdate:\"\", bookname:\"\", chapter:\"\", sortpubdate:\"2019/08/22 00:00\", sortfirstauthor:\"Balaban M\", vernaculartitle:\"\"}}}]\n",
       "Index: []\n",
       "\n",
       "[0 rows x 89 columns]"
      ]
     },
     "execution_count": 29,
     "metadata": {},
     "output_type": "execute_result"
    }
   ],
   "source": [
    "item2"
   ]
  },
  {
   "cell_type": "code",
   "execution_count": 30,
   "metadata": {},
   "outputs": [
    {
     "data": {
      "text/html": [
       "<div>\n",
       "<style scoped>\n",
       "    .dataframe tbody tr th:only-of-type {\n",
       "        vertical-align: middle;\n",
       "    }\n",
       "\n",
       "    .dataframe tbody tr th {\n",
       "        vertical-align: top;\n",
       "    }\n",
       "\n",
       "    .dataframe thead th {\n",
       "        text-align: right;\n",
       "    }\n",
       "</style>\n",
       "<table border=\"1\" class=\"dataframe\">\n",
       "  <thead>\n",
       "    <tr style=\"text-align: right;\">\n",
       "      <th></th>\n",
       "      <th>{\"header\":{\"type\":\"esummary\"</th>\n",
       "      <th>version:\"0.3\"}</th>\n",
       "      <th>result:{\"uids\":[\"31455877\"]</th>\n",
       "      <th>31455877:{\"uid\":\"31455877\"</th>\n",
       "      <th>pubdate:\"2019 Aug 27\"</th>\n",
       "      <th>epubdate:\"2019 Aug 27\"</th>\n",
       "      <th>source:\"Sci Rep\"</th>\n",
       "      <th>authors:[{\"name\":\"Booeshaghi AS\"</th>\n",
       "      <th>authtype:\"Author\"</th>\n",
       "      <th>clusterid:\"\"}</th>\n",
       "      <th>...</th>\n",
       "      <th>reportnumber:\"\"</th>\n",
       "      <th>availablefromurl:\"\"</th>\n",
       "      <th>locationlabel:\"\"</th>\n",
       "      <th>doccontriblist:[]</th>\n",
       "      <th>docdate:\"\"</th>\n",
       "      <th>bookname:\"\"</th>\n",
       "      <th>chapter:\"\"</th>\n",
       "      <th>sortpubdate:\"2019/08/27 00:00\"</th>\n",
       "      <th>sortfirstauthor:\"Booeshaghi AS\"</th>\n",
       "      <th>vernaculartitle:\"\"}}}</th>\n",
       "    </tr>\n",
       "  </thead>\n",
       "  <tbody>\n",
       "  </tbody>\n",
       "</table>\n",
       "<p>0 rows × 89 columns</p>\n",
       "</div>"
      ],
      "text/plain": [
       "Empty DataFrame\n",
       "Columns: [{\"header\":{\"type\":\"esummary\", version:\"0.3\"}, result:{\"uids\":[\"31455877\"], 31455877:{\"uid\":\"31455877\", pubdate:\"2019 Aug 27\", epubdate:\"2019 Aug 27\", source:\"Sci Rep\", authors:[{\"name\":\"Booeshaghi AS\", authtype:\"Author\", clusterid:\"\"}, {\"name\":\"Beltrame EDV\", authtype:\"Author\".1, clusterid:\"\"}.1, {\"name\":\"Bannon D\", authtype:\"Author\".2, clusterid:\"\"}.2, {\"name\":\"Gehring J\", authtype:\"Author\".3, clusterid:\"\"}.3, {\"name\":\"Pachter L\", authtype:\"Author\".4, clusterid:\"\"}], lastauthor:\"Pachter L\", title:\"Principles of open source bioinstrumentation applied to the poseidon syringe pump system.\", sorttitle:\"principles of open source bioinstrumentation applied to the poseidon syringe pump system\", volume:\"9\", issue:\"1\", pages:\"12385\", lang:[\"eng\"], nlmuniqueid:\"101563288\", issn:\"\", essn:\"2045-2322\", pubtype:[\"Journal Article\"], recordstatus:\"PubMed\", pubstatus:\"3\", articleids:[{\"idtype\":\"pubmed\", idtypen:1, value:\"31455877\"}, {\"idtype\":\"doi\", idtypen:3, value:\"10.1038/s41598-019-48815-9\"}, {\"idtype\":\"pii\", idtypen:4, value:\"10.1038/s41598-019-48815-9\"}.1, {\"idtype\":\"pmc\", idtypen:8, value:\"PMC6711986\"}, {\"idtype\":\"rid\", idtypen:8.1, value:\"31455877\"}.1, {\"idtype\":\"eid\", idtypen:8.2, value:\"31455877\"}.2, {\"idtype\":\"pmcid\", idtypen:5, value:\"pmc-id: PMC6711986;\"}], history:[{\"pubstatus\":\"received\", date:\"2019/02/07 00:00\"}, {\"pubstatus\":\"accepted\", date:\"2019/08/08 00:00\"}, {\"pubstatus\":\"entrez\", date:\"2019/08/29 06:00\"}, {\"pubstatus\":\"pubmed\", date:\"2019/08/29 06:00\"}.1, {\"pubstatus\":\"medline\", date:\"2019/08/29 06:01\"}], references:[], attributes:[\"Has Abstract\"], pmcrefcount:4, fulljournalname:\"Scientific reports\", elocationid:\"doi: 10.1038/s41598-019-48815-9\", doctype:\"citation\", srccontriblist:[], booktitle:\"\", medium:\"\", edition:\"\", publisherlocation:\"\", publishername:\"\", srcdate:\"\", reportnumber:\"\", availablefromurl:\"\", locationlabel:\"\", doccontriblist:[], docdate:\"\", bookname:\"\", chapter:\"\", sortpubdate:\"2019/08/27 00:00\", sortfirstauthor:\"Booeshaghi AS\", vernaculartitle:\"\"}}}]\n",
       "Index: []\n",
       "\n",
       "[0 rows x 89 columns]"
      ]
     },
     "execution_count": 30,
     "metadata": {},
     "output_type": "execute_result"
    }
   ],
   "source": [
    "item3"
   ]
  },
  {
   "cell_type": "code",
   "execution_count": 31,
   "metadata": {},
   "outputs": [
    {
     "data": {
      "text/html": [
       "<div>\n",
       "<style scoped>\n",
       "    .dataframe tbody tr th:only-of-type {\n",
       "        vertical-align: middle;\n",
       "    }\n",
       "\n",
       "    .dataframe tbody tr th {\n",
       "        vertical-align: top;\n",
       "    }\n",
       "\n",
       "    .dataframe thead th {\n",
       "        text-align: right;\n",
       "    }\n",
       "</style>\n",
       "<table border=\"1\" class=\"dataframe\">\n",
       "  <thead>\n",
       "    <tr style=\"text-align: right;\">\n",
       "      <th></th>\n",
       "      <th>{\"header\":{\"type\":\"esummary\"</th>\n",
       "      <th>version:\"0.3\"}</th>\n",
       "      <th>result:{\"uids\":[\"31535994\"]</th>\n",
       "      <th>31535994:{\"uid\":\"31535994\"</th>\n",
       "      <th>pubdate:\"2019 Sep 16\"</th>\n",
       "      <th>epubdate:\"2019 Sep 16\"</th>\n",
       "      <th>source:\"IEEE Trans Image Process\"</th>\n",
       "      <th>authors:[{\"name\":\"Liu C\"</th>\n",
       "      <th>authtype:\"Author\"</th>\n",
       "      <th>clusterid:\"\"}</th>\n",
       "      <th>...</th>\n",
       "      <th>reportnumber:\"\"</th>\n",
       "      <th>availablefromurl:\"\"</th>\n",
       "      <th>locationlabel:\"\"</th>\n",
       "      <th>doccontriblist:[]</th>\n",
       "      <th>docdate:\"\"</th>\n",
       "      <th>bookname:\"\"</th>\n",
       "      <th>chapter:\"\"</th>\n",
       "      <th>sortpubdate:\"2019/09/16 00:00\"</th>\n",
       "      <th>sortfirstauthor:\"Liu C\"</th>\n",
       "      <th>vernaculartitle:\"\"}}}</th>\n",
       "    </tr>\n",
       "  </thead>\n",
       "  <tbody>\n",
       "  </tbody>\n",
       "</table>\n",
       "<p>0 rows × 82 columns</p>\n",
       "</div>"
      ],
      "text/plain": [
       "Empty DataFrame\n",
       "Columns: [{\"header\":{\"type\":\"esummary\", version:\"0.3\"}, result:{\"uids\":[\"31535994\"], 31535994:{\"uid\":\"31535994\", pubdate:\"2019 Sep 16\", epubdate:\"2019 Sep 16\", source:\"IEEE Trans Image Process\", authors:[{\"name\":\"Liu C\", authtype:\"Author\", clusterid:\"\"}, {\"name\":\"Ding W\", authtype:\"Author\".1, clusterid:\"\"}.1, {\"name\":\"Yang J\", authtype:\"Author\".2, clusterid:\"\"}.2, {\"name\":\"Murino V\", authtype:\"Author\".3, clusterid:\"\"}.3, {\"name\":\"Zhang B\", authtype:\"Author\".4, clusterid:\"\"}.4, {\"name\":\"Han J\", authtype:\"Author\".5, clusterid:\"\"}.5, {\"name\":\"Guo G\", authtype:\"Author\".6, clusterid:\"\"}], lastauthor:\"Guo G\", title:\"Aggregation Signature for Small Object Tracking.\", sorttitle:\"aggregation signature for small object tracking\", volume:\"\", issue:\"\", pages:\"\", lang:[\"eng\"], nlmuniqueid:\"9886191\", issn:\"1057-7149\", essn:\"1941-0042\", pubtype:[\"Journal Article\"], recordstatus:\"PubMed - as supplied by publisher\", pubstatus:\"10\", articleids:[{\"idtype\":\"pubmed\", idtypen:1, value:\"31535994\"}, {\"idtype\":\"doi\", idtypen:3, value:\"10.1109/TIP.2019.2940477\"}, {\"idtype\":\"rid\", idtypen:8, value:\"31535994\"}.1, {\"idtype\":\"eid\", idtypen:8.1, value:\"31535994\"}], history:[{\"pubstatus\":\"entrez\", date:\"2019/09/20 06:00\"}, {\"pubstatus\":\"pubmed\", date:\"2019/09/20 06:00\"}.1, {\"pubstatus\":\"medline\", date:\"2019/09/20 06:00\"}], references:[], attributes:[\"Has Abstract\"], pmcrefcount:\"\", fulljournalname:\"IEEE transactions on image processing : a publication of the IEEE Signal Processing Society\", elocationid:\"doi: 10.1109/TIP.2019.2940477\", doctype:\"citation\", srccontriblist:[], booktitle:\"\", medium:\"\", edition:\"\", publisherlocation:\"\", publishername:\"\", srcdate:\"\", reportnumber:\"\", availablefromurl:\"\", locationlabel:\"\", doccontriblist:[], docdate:\"\", bookname:\"\", chapter:\"\", sortpubdate:\"2019/09/16 00:00\", sortfirstauthor:\"Liu C\", vernaculartitle:\"\"}}}]\n",
       "Index: []\n",
       "\n",
       "[0 rows x 82 columns]"
      ]
     },
     "execution_count": 31,
     "metadata": {},
     "output_type": "execute_result"
    }
   ],
   "source": [
    "item4"
   ]
  },
  {
   "cell_type": "markdown",
   "metadata": {},
   "source": [
    "Alle Informationen sind in die Columns eingetragen und nicht in Columns und Rows, wie es einfacher und schöner wäre. Weil mich das frustriert werde ich nun die Informationen händisch eintragen."
   ]
  },
  {
   "cell_type": "code",
   "execution_count": 37,
   "metadata": {},
   "outputs": [],
   "source": [
    "item1_title = \"Molegro Virtual Docker for Docking.\"\n",
    "item1_date = \"2019\"\n",
    "item2_title = \"TreeCluster: Clustering biological sequences using phylogenetic trees.\"\n",
    "item2_date = \"2019\"\n",
    "item3_title = \"Principles of open source bioinstrumentation applied to the poseidon syringe pump system.\"\n",
    "item3_date = \"2019 Aug 27\"\n",
    "item4_title = \"Aggregation Signature for Small Object Tracking.\"\n",
    "item4_date = \"2019 Sep 16\""
   ]
  },
  {
   "cell_type": "code",
   "execution_count": 38,
   "metadata": {},
   "outputs": [
    {
     "name": "stdout",
     "output_type": "stream",
     "text": [
      "Molegro Virtual Docker for Docking.\n"
     ]
    }
   ],
   "source": [
    "print(item1_title)"
   ]
  },
  {
   "cell_type": "code",
   "execution_count": 47,
   "metadata": {},
   "outputs": [
    {
     "data": {
      "text/plain": [
       "'Title: Molegro Virtual Docker for Docking.; Publication Date: 2019'"
      ]
     },
     "execution_count": 47,
     "metadata": {},
     "output_type": "execute_result"
    }
   ],
   "source": [
    ">>> f\"Title: {item1_title}; Publication Date: {item1_date}\""
   ]
  },
  {
   "cell_type": "code",
   "execution_count": 48,
   "metadata": {},
   "outputs": [
    {
     "data": {
      "text/plain": [
       "'Title: TreeCluster: Clustering biological sequences using phylogenetic trees.; Publication Date: 2019'"
      ]
     },
     "execution_count": 48,
     "metadata": {},
     "output_type": "execute_result"
    }
   ],
   "source": [
    ">>> f\"Title: {item2_title}; Publication Date: {item2_date}\""
   ]
  },
  {
   "cell_type": "code",
   "execution_count": 49,
   "metadata": {},
   "outputs": [
    {
     "data": {
      "text/plain": [
       "'Title: Principles of open source bioinstrumentation applied to the poseidon syringe pump system.; Publication Date: 2019 Aug 27'"
      ]
     },
     "execution_count": 49,
     "metadata": {},
     "output_type": "execute_result"
    }
   ],
   "source": [
    ">>> f\"Title: {item3_title}; Publication Date: {item3_date}\""
   ]
  },
  {
   "cell_type": "code",
   "execution_count": 50,
   "metadata": {},
   "outputs": [
    {
     "data": {
      "text/plain": [
       "'Title: Aggregation Signature for Small Object Tracking.; Publication Date: 2019 Sep 16'"
      ]
     },
     "execution_count": 50,
     "metadata": {},
     "output_type": "execute_result"
    }
   ],
   "source": [
    ">>> f\"Title: {item4_title}; Publication Date: {item4_date}\""
   ]
  },
  {
   "cell_type": "code",
   "execution_count": null,
   "metadata": {},
   "outputs": [],
   "source": []
  }
 ],
 "metadata": {
  "kernelspec": {
   "display_name": "Python 3",
   "language": "python",
   "name": "python3"
  },
  "language_info": {
   "codemirror_mode": {
    "name": "ipython",
    "version": 3
   },
   "file_extension": ".py",
   "mimetype": "text/x-python",
   "name": "python",
   "nbconvert_exporter": "python",
   "pygments_lexer": "ipython3",
   "version": "3.8.5"
  }
 },
 "nbformat": 4,
 "nbformat_minor": 4
}
