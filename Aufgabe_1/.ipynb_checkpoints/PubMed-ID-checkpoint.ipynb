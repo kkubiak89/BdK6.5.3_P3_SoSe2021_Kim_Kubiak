{
 "cells": [
  {
   "cell_type": "code",
   "execution_count": 31,
   "metadata": {},
   "outputs": [],
   "source": [
    "import urllib.request\n",
    "import json"
   ]
  },
  {
   "cell_type": "code",
   "execution_count": 32,
   "metadata": {},
   "outputs": [],
   "source": [
    "base_url = \"https://eutils.ncbi.nlm.nih.gov/entrez/eutils/esummary.fcgi?db=pubmed&retmode=json&id=\"\n",
    "pmid1 = \"31452104\"\n",
    "full_url1= base_url + pmid1"
   ]
  },
  {
   "cell_type": "code",
   "execution_count": 33,
   "metadata": {},
   "outputs": [],
   "source": [
    "pmid1_json_data = urllib.request.urlopen(full_url1).read()"
   ]
  },
  {
   "cell_type": "code",
   "execution_count": 34,
   "metadata": {},
   "outputs": [
    {
     "name": "stdout",
     "output_type": "stream",
     "text": [
      "b'{\"header\":{\"type\":\"esummary\",\"version\":\"0.3\"},\"result\":{\"uids\":[\"31452104\"],\"31452104\":{\"uid\":\"31452104\",\"pubdate\":\"2019\",\"epubdate\":\"\",\"source\":\"Methods Mol Biol\",\"authors\":[{\"name\":\"Bitencourt-Ferreira G\",\"authtype\":\"Author\",\"clusterid\":\"\"},{\"name\":\"de Azevedo WF Jr\",\"authtype\":\"Author\",\"clusterid\":\"\"}],\"lastauthor\":\"de Azevedo WF Jr\",\"title\":\"Molegro Virtual Docker for Docking.\",\"sorttitle\":\"molegro virtual docker for docking\",\"volume\":\"2053\",\"issue\":\"\",\"pages\":\"149-167\",\"lang\":[\"eng\"],\"nlmuniqueid\":\"9214969\",\"issn\":\"1064-3745\",\"essn\":\"1940-6029\",\"pubtype\":[\"Journal Article\"],\"recordstatus\":\"PubMed - indexed for MEDLINE\",\"pubstatus\":\"4\",\"articleids\":[{\"idtype\":\"pubmed\",\"idtypen\":1,\"value\":\"31452104\"},{\"idtype\":\"doi\",\"idtypen\":3,\"value\":\"10.1007/978-1-4939-9752-7_10\"},{\"idtype\":\"rid\",\"idtypen\":8,\"value\":\"31452104\"},{\"idtype\":\"eid\",\"idtypen\":8,\"value\":\"31452104\"}],\"history\":[{\"pubstatus\":\"entrez\",\"date\":\"2019/08/28 06:00\"},{\"pubstatus\":\"pubmed\",\"date\":\"2019/08/28 06:00\"},{\"pubstatus\":\"medline\",\"date\":\"2020/06/20 06:00\"}],\"references\":[],\"attributes\":[\"Has Abstract\"],\"pmcrefcount\":4,\"fulljournalname\":\"Methods in molecular biology (Clifton, N.J.)\",\"elocationid\":\"doi: 10.1007/978-1-4939-9752-7_10\",\"doctype\":\"citation\",\"srccontriblist\":[],\"booktitle\":\"\",\"medium\":\"\",\"edition\":\"\",\"publisherlocation\":\"\",\"publishername\":\"\",\"srcdate\":\"\",\"reportnumber\":\"\",\"availablefromurl\":\"\",\"locationlabel\":\"\",\"doccontriblist\":[],\"docdate\":\"\",\"bookname\":\"\",\"chapter\":\"\",\"sortpubdate\":\"2019/01/01 00:00\",\"sortfirstauthor\":\"Bitencourt-Ferreira G\",\"vernaculartitle\":\"\"}}}\\n'\n"
     ]
    }
   ],
   "source": [
    "print(pmid1_json_data)"
   ]
  },
  {
   "cell_type": "code",
   "execution_count": 35,
   "metadata": {},
   "outputs": [],
   "source": [
    "pmid1_data = json.loads(pmid1_json_data)"
   ]
  },
  {
   "cell_type": "code",
   "execution_count": 36,
   "metadata": {},
   "outputs": [
    {
     "data": {
      "text/plain": [
       "dict"
      ]
     },
     "execution_count": 36,
     "metadata": {},
     "output_type": "execute_result"
    }
   ],
   "source": [
    "type(pmid1_data)"
   ]
  },
  {
   "cell_type": "code",
   "execution_count": 37,
   "metadata": {},
   "outputs": [
    {
     "data": {
      "text/plain": [
       "dict_keys(['uids', '31452104'])"
      ]
     },
     "execution_count": 37,
     "metadata": {},
     "output_type": "execute_result"
    }
   ],
   "source": [
    "pmid1_data[\"result\"].keys()"
   ]
  },
  {
   "cell_type": "code",
   "execution_count": 38,
   "metadata": {},
   "outputs": [
    {
     "data": {
      "text/plain": [
       "'31452104'"
      ]
     },
     "execution_count": 38,
     "metadata": {},
     "output_type": "execute_result"
    }
   ],
   "source": [
    "pmid1_data[\"result\"][\"uids\"][0]"
   ]
  },
  {
   "cell_type": "code",
   "execution_count": 39,
   "metadata": {},
   "outputs": [
    {
     "data": {
      "text/plain": [
       "'Molegro Virtual Docker for Docking.'"
      ]
     },
     "execution_count": 39,
     "metadata": {},
     "output_type": "execute_result"
    }
   ],
   "source": [
    "pmid1_data[\"result\"][\"31452104\"][\"title\"]"
   ]
  },
  {
   "cell_type": "code",
   "execution_count": 40,
   "metadata": {},
   "outputs": [
    {
     "data": {
      "text/plain": [
       "'2019'"
      ]
     },
     "execution_count": 40,
     "metadata": {},
     "output_type": "execute_result"
    }
   ],
   "source": [
    "pmid1_data[\"result\"][\"31452104\"][\"pubdate\"]"
   ]
  },
  {
   "cell_type": "code",
   "execution_count": 41,
   "metadata": {},
   "outputs": [],
   "source": [
    "pmid2 = \"31437182\"\n",
    "full_url2= base_url + pmid2\n",
    "pmid3 = \"31455877\"\n",
    "full_url3= base_url + pmid3\n",
    "pmid4 = \"31535994\"\n",
    "full_url4= base_url + pmid4"
   ]
  },
  {
   "cell_type": "code",
   "execution_count": 42,
   "metadata": {},
   "outputs": [],
   "source": [
    "pmid2_json_data = urllib.request.urlopen(full_url2).read()\n",
    "pmid3_json_data = urllib.request.urlopen(full_url3).read()\n",
    "pmid4_json_data = urllib.request.urlopen(full_url4).read()"
   ]
  },
  {
   "cell_type": "code",
   "execution_count": 43,
   "metadata": {},
   "outputs": [],
   "source": [
    "pmid2_data = json.loads(pmid2_json_data)\n",
    "pmid3_data = json.loads(pmid3_json_data)\n",
    "pmid4_data = json.loads(pmid4_json_data)"
   ]
  },
  {
   "cell_type": "code",
   "execution_count": 44,
   "metadata": {},
   "outputs": [
    {
     "data": {
      "text/plain": [
       "'TreeCluster: Clustering biological sequences using phylogenetic trees.'"
      ]
     },
     "execution_count": 44,
     "metadata": {},
     "output_type": "execute_result"
    }
   ],
   "source": [
    "pmid2_data[\"result\"][\"31437182\"][\"title\"]"
   ]
  },
  {
   "cell_type": "code",
   "execution_count": 45,
   "metadata": {},
   "outputs": [
    {
     "data": {
      "text/plain": [
       "'2019'"
      ]
     },
     "execution_count": 45,
     "metadata": {},
     "output_type": "execute_result"
    }
   ],
   "source": [
    "pmid2_data[\"result\"][\"31437182\"][\"pubdate\"]"
   ]
  },
  {
   "cell_type": "code",
   "execution_count": 46,
   "metadata": {},
   "outputs": [
    {
     "data": {
      "text/plain": [
       "'Principles of open source bioinstrumentation applied to the poseidon syringe pump system.'"
      ]
     },
     "execution_count": 46,
     "metadata": {},
     "output_type": "execute_result"
    }
   ],
   "source": [
    "pmid3_data[\"result\"][\"31455877\"][\"title\"]"
   ]
  },
  {
   "cell_type": "code",
   "execution_count": 47,
   "metadata": {},
   "outputs": [
    {
     "data": {
      "text/plain": [
       "'2019 Aug 27'"
      ]
     },
     "execution_count": 47,
     "metadata": {},
     "output_type": "execute_result"
    }
   ],
   "source": [
    "pmid3_data[\"result\"][\"31455877\"][\"pubdate\"]"
   ]
  },
  {
   "cell_type": "code",
   "execution_count": 48,
   "metadata": {},
   "outputs": [
    {
     "data": {
      "text/plain": [
       "'Aggregation Signature for Small Object Tracking.'"
      ]
     },
     "execution_count": 48,
     "metadata": {},
     "output_type": "execute_result"
    }
   ],
   "source": [
    "pmid4_data[\"result\"][\"31535994\"][\"title\"]"
   ]
  },
  {
   "cell_type": "code",
   "execution_count": 49,
   "metadata": {},
   "outputs": [
    {
     "data": {
      "text/plain": [
       "'2019 Sep 16'"
      ]
     },
     "execution_count": 49,
     "metadata": {},
     "output_type": "execute_result"
    }
   ],
   "source": [
    "pmid4_data[\"result\"][\"31535994\"][\"pubdate\"]"
   ]
  },
  {
   "cell_type": "code",
   "execution_count": 50,
   "metadata": {},
   "outputs": [],
   "source": [
    "pmid1_title = pmid1_data[\"result\"][\"31452104\"][\"title\"]\n",
    "pmid1_date = pmid1_data[\"result\"][\"31452104\"][\"pubdate\"]\n",
    "pmid2_title = pmid2_data[\"result\"][\"31437182\"][\"title\"]\n",
    "pmid2_date = pmid2_data[\"result\"][\"31437182\"][\"pubdate\"]\n",
    "pmid3_title = pmid3_data[\"result\"][\"31455877\"][\"title\"]\n",
    "pmid3_date = pmid3_data[\"result\"][\"31455877\"][\"pubdate\"]\n",
    "pmid4_title = pmid4_data[\"result\"][\"31535994\"][\"title\"]\n",
    "pmid4_date = pmid4_data[\"result\"][\"31535994\"][\"pubdate\"]"
   ]
  },
  {
   "cell_type": "code",
   "execution_count": 51,
   "metadata": {},
   "outputs": [
    {
     "data": {
      "text/plain": [
       "'Title: Molegro Virtual Docker for Docking.; Publication Date: 2019'"
      ]
     },
     "execution_count": 51,
     "metadata": {},
     "output_type": "execute_result"
    }
   ],
   "source": [
    ">>> f\"Title: {pmid1_title}; Publication Date: {pmid1_date}\""
   ]
  },
  {
   "cell_type": "code",
   "execution_count": 52,
   "metadata": {},
   "outputs": [
    {
     "data": {
      "text/plain": [
       "'Title: TreeCluster: Clustering biological sequences using phylogenetic trees.; Publication Date: 2019'"
      ]
     },
     "execution_count": 52,
     "metadata": {},
     "output_type": "execute_result"
    }
   ],
   "source": [
    ">>> f\"Title: {pmid2_title}; Publication Date: {pmid2_date}\""
   ]
  },
  {
   "cell_type": "code",
   "execution_count": 53,
   "metadata": {},
   "outputs": [
    {
     "data": {
      "text/plain": [
       "'Title: Principles of open source bioinstrumentation applied to the poseidon syringe pump system.; Publication Date: 2019 Aug 27'"
      ]
     },
     "execution_count": 53,
     "metadata": {},
     "output_type": "execute_result"
    }
   ],
   "source": [
    ">>> f\"Title: {pmid3_title}; Publication Date: {pmid3_date}\""
   ]
  },
  {
   "cell_type": "code",
   "execution_count": 54,
   "metadata": {},
   "outputs": [
    {
     "data": {
      "text/plain": [
       "'Title: Aggregation Signature for Small Object Tracking.; Publication Date: 2019 Sep 16'"
      ]
     },
     "execution_count": 54,
     "metadata": {},
     "output_type": "execute_result"
    }
   ],
   "source": [
    ">>> f\"Title: {pmid4_title}; Publication Date: {pmid4_date}\""
   ]
  },
  {
   "cell_type": "code",
   "execution_count": 55,
   "metadata": {},
   "outputs": [],
   "source": [
    "pmid5 = \"27708327\"\n",
    "full_url5= base_url + pmid5"
   ]
  },
  {
   "cell_type": "code",
   "execution_count": 56,
   "metadata": {},
   "outputs": [],
   "source": [
    "pmid5_json_data = urllib.request.urlopen(full_url5).read()"
   ]
  },
  {
   "cell_type": "code",
   "execution_count": 57,
   "metadata": {},
   "outputs": [],
   "source": [
    "pmid5_data = json.loads(pmid5_json_data)"
   ]
  },
  {
   "cell_type": "code",
   "execution_count": 59,
   "metadata": {},
   "outputs": [],
   "source": [
    "pmid5_title = pmid5_data[\"result\"][\"27708327\"][\"title\"]\n",
    "pmid5_date = pmid5_data[\"result\"][\"27708327\"][\"pubdate\"]"
   ]
  },
  {
   "cell_type": "code",
   "execution_count": 60,
   "metadata": {},
   "outputs": [
    {
     "data": {
      "text/plain": [
       "'Title: Democratic databases: science on GitHub.; Publication Date: 2016 Oct 6'"
      ]
     },
     "execution_count": 60,
     "metadata": {},
     "output_type": "execute_result"
    }
   ],
   "source": [
    ">>> f\"Title: {pmid5_title}; Publication Date: {pmid5_date}\""
   ]
  },
  {
   "cell_type": "code",
   "execution_count": null,
   "metadata": {},
   "outputs": [],
   "source": []
  }
 ],
 "metadata": {
  "kernelspec": {
   "display_name": "Python 3",
   "language": "python",
   "name": "python3"
  },
  "language_info": {
   "codemirror_mode": {
    "name": "ipython",
    "version": 3
   },
   "file_extension": ".py",
   "mimetype": "text/x-python",
   "name": "python",
   "nbconvert_exporter": "python",
   "pygments_lexer": "ipython3",
   "version": "3.8.5"
  }
 },
 "nbformat": 4,
 "nbformat_minor": 4
}
